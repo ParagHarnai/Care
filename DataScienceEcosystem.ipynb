{
 "cells": [
  {
   "cell_type": "markdown",
   "id": "873881f8-302b-4ffb-b05a-9abe93b22505",
   "metadata": {},
   "source": [
    "# Data Science Tools and Ecosystem\n",
    "In this notebook, Data Science Tools and Ecosystem are summarized."
   ]
  },
  {
   "cell_type": "markdown",
   "id": "00f40429-691b-4a2a-a0ff-06fa42cc60a6",
   "metadata": {},
   "source": [
    "__Objectives:__\n",
    "- List some of the popular languages that Data Scientists use\n",
    "- List some of the commonly used libraries used by Data Scientists\n",
    "- List some of the Data Science Tools\n",
    "- List a few examples of evaluating arithmetic expressions in Python\n",
    "## Author\n",
    "Parag K Harnaikar"
   ]
  },
  {
   "cell_type": "markdown",
   "id": "500497c3-58da-4de4-a6c6-4aafb24e89a0",
   "metadata": {},
   "source": [
    "Some of the popular languages that Data Scientists use are:\n",
    "1. Python\n",
    "2. R\n",
    "3. Scala\n",
    "4. Julia DB\n",
    "\n",
    "Some of the commonly used libraries used by Data Scientists include:\n",
    "1. NumPy\n",
    "2. Pandas\n",
    "3. Matplotlib\n",
    "4. TensorFlow\n",
    "\n",
    "|Data Science Tools|\n",
    "----------------------\n",
    "|JupyterLab|\n",
    "|Jupyter Notebook|\n",
    "|RStudio|\n",
    "\n",
    "### Below are a few examples of evaluating arithmetic expressions in Python\n",
    "    x = 5*(4-5+(4+6)/2)-3\n",
    "    print('x evaluates to 17')"
   ]
  },
  {
   "cell_type": "code",
   "execution_count": 10,
   "id": "e5e3bc17-7aec-4d0b-9542-7f3246a4a4db",
   "metadata": {},
   "outputs": [
    {
     "data": {
      "text/plain": [
       "17"
      ]
     },
     "execution_count": 10,
     "metadata": {},
     "output_type": "execute_result"
    }
   ],
   "source": [
    "(3*4)+5\n",
    "# This a simple arithmetic expression to mutiply then add integers"
   ]
  },
  {
   "cell_type": "code",
   "execution_count": 26,
   "id": "c09c0b9d-aa7b-46c0-a4e9-391b98007ad6",
   "metadata": {},
   "outputs": [
    {
     "data": {
      "text/plain": [
       "'200 minutes is 3 hours and 20 minutes'"
      ]
     },
     "execution_count": 26,
     "metadata": {},
     "output_type": "execute_result"
    }
   ],
   "source": [
    "x = 200 // 60\n",
    "y = 200 % 60\n",
    "f'200 minutes is {x} hours and {y} minutes'\n",
    "# This will convert 200 minutes to hours by diving by 60"
   ]
  }
 ],
 "metadata": {
  "kernelspec": {
   "display_name": "anaconda-panel-2023.05-py310",
   "language": "python",
   "name": "conda-env-anaconda-panel-2023.05-py310-py"
  },
  "language_info": {
   "codemirror_mode": {
    "name": "ipython",
    "version": 3
   },
   "file_extension": ".py",
   "mimetype": "text/x-python",
   "name": "python",
   "nbconvert_exporter": "python",
   "pygments_lexer": "ipython3",
   "version": "3.11.5"
  }
 },
 "nbformat": 4,
 "nbformat_minor": 5
}
